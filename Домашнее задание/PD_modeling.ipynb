{
 "cells": [
  {
   "cell_type": "markdown",
   "metadata": {},
   "source": [
    "# Основы машинного обучения с приложениями в финансах\n",
    "\n",
    "## Практическое задание «Разработка PD модели»\n",
    "\n",
    "\n",
    "### Общая информация\n",
    "Необходимо разработать модель предсказания дефолта. Даны финансовые данные 32 195 компаний (выручка, активы, пассивы и т.д). Результат будет оцениваться на скрытой выборке из 200 компаний по метрике качества `F1-macro` ([документация](https://scikit-learn.org/stable/modules/generated/sklearn.metrics.f1_score.html#sklearn.metrics.f1_score)).\n",
    "\n",
    "#### Правила\n",
    "Задание выполняется самостоятельно. «Похожие» решения считаются плагиатом и все задействованные студенты (в том числе те, у кого списали) не могут получить за него больше 0 баллов.\n",
    "\n",
    "#### Формат сдачи\n",
    "Заполненный ноутбук с выводом ячеек отправлять на почту vbaklanova@hse.ru. Файл необходимо назвать в формате `ДЗ_Фамилия_Имя.ipynb`."
   ]
  },
  {
   "cell_type": "markdown",
   "metadata": {
    "colab_type": "text",
    "id": "EJ9_SMqyN916"
   },
   "source": [
    "### Импортируем библиотеки"
   ]
  },
  {
   "cell_type": "code",
   "execution_count": 227,
   "metadata": {
    "colab": {},
    "colab_type": "code",
    "id": "Vo4g-4Y5N917"
   },
   "outputs": [],
   "source": [
    "import pandas as pd\n",
    "from sklearn.metrics import f1_score\n",
    "from matplotlib import pyplot as plt\n",
    "import seaborn as sns\n",
    "from sklearn.preprocessing import StandardScaler\n",
    "from sklearn.model_selection import cross_val_score\n",
    "from sklearn.model_selection import train_test_split\n",
    "from sklearn.linear_model import LogisticRegression\n",
    "from sklearn.metrics import accuracy_score\n",
    "from sklearn.metrics import confusion_matrix\n",
    "from sklearn.metrics import classification_report\n",
    "from sklearn.metrics import roc_auc_score\n",
    "from sklearn.metrics import f1_score\n",
    "\n",
    "import warnings\n",
    "warnings.filterwarnings(\"ignore\")"
   ]
  },
  {
   "cell_type": "markdown",
   "metadata": {
    "colab_type": "text",
    "id": "4k8ndBMHN92A"
   },
   "source": [
    "### Подгружаем данные"
   ]
  },
  {
   "cell_type": "code",
   "execution_count": 228,
   "metadata": {},
   "outputs": [],
   "source": [
    "train_df = pd.read_csv(\"train.csv\")\n",
    "test_df  = pd.read_csv('test.csv')\n",
    "desc_df  = pd.read_csv('data-desc.csv')"
   ]
  },
  {
   "cell_type": "markdown",
   "metadata": {
    "colab_type": "text",
    "id": "SX8LHnlqbt6j"
   },
   "source": [
    "Описание данных"
   ]
  },
  {
   "cell_type": "code",
   "execution_count": 229,
   "metadata": {
    "colab": {},
    "colab_type": "code",
    "id": "rK5w1ZC7bt6o",
    "outputId": "cee77bc0-561a-46e8-c4a4-838040292dc2",
    "scrolled": true
   },
   "outputs": [
    {
     "data": {
      "text/html": [
       "<div>\n",
       "<style scoped>\n",
       "    .dataframe tbody tr th:only-of-type {\n",
       "        vertical-align: middle;\n",
       "    }\n",
       "\n",
       "    .dataframe tbody tr th {\n",
       "        vertical-align: top;\n",
       "    }\n",
       "\n",
       "    .dataframe thead th {\n",
       "        text-align: right;\n",
       "    }\n",
       "</style>\n",
       "<table border=\"1\" class=\"dataframe\">\n",
       "  <thead>\n",
       "    <tr style=\"text-align: right;\">\n",
       "      <th></th>\n",
       "      <th>field</th>\n",
       "      <th>desc_eng</th>\n",
       "      <th>desc_rus</th>\n",
       "    </tr>\n",
       "  </thead>\n",
       "  <tbody>\n",
       "    <tr>\n",
       "      <th>0</th>\n",
       "      <td>ar_revenue</td>\n",
       "      <td>Sales revenue (at the end of the last year)</td>\n",
       "      <td>Выручка от реализации (на конец последнего года)</td>\n",
       "    </tr>\n",
       "    <tr>\n",
       "      <th>1</th>\n",
       "      <td>ar_total_expenses</td>\n",
       "      <td>Total expenses for the last year</td>\n",
       "      <td>Общие расходы за последний год</td>\n",
       "    </tr>\n",
       "    <tr>\n",
       "      <th>2</th>\n",
       "      <td>ar_sale_cost</td>\n",
       "      <td>Cost of sales (at the end of the last year)</td>\n",
       "      <td>Себестоимость продаж (на конец последнего года)</td>\n",
       "    </tr>\n",
       "    <tr>\n",
       "      <th>3</th>\n",
       "      <td>ar_selling_expenses</td>\n",
       "      <td>Selling expenses (at the end of the last year)</td>\n",
       "      <td>Коммерческие расходы (на конец последнего года)</td>\n",
       "    </tr>\n",
       "    <tr>\n",
       "      <th>4</th>\n",
       "      <td>ar_management_expenses</td>\n",
       "      <td>Administrative expenses (at the end of the las...</td>\n",
       "      <td>Управленческие расходы (на конец последнего года)</td>\n",
       "    </tr>\n",
       "    <tr>\n",
       "      <th>5</th>\n",
       "      <td>ar_sale_profit</td>\n",
       "      <td>Profit from sales (at the end of the last year)</td>\n",
       "      <td>Прибыль от реализации (на конец последнего года)</td>\n",
       "    </tr>\n",
       "    <tr>\n",
       "      <th>6</th>\n",
       "      <td>ar_balance_of_rvns_and_expns</td>\n",
       "      <td>Balance of income and expenses (at the end of ...</td>\n",
       "      <td>Баланс доходов и расходов (на конец последнего...</td>\n",
       "    </tr>\n",
       "    <tr>\n",
       "      <th>7</th>\n",
       "      <td>ar_profit_before_tax</td>\n",
       "      <td>Gross Profit (end of last year)</td>\n",
       "      <td>Валовая прибыль (на конец последнего года)</td>\n",
       "    </tr>\n",
       "    <tr>\n",
       "      <th>8</th>\n",
       "      <td>ar_taxes</td>\n",
       "      <td>Current income tax (at the end of the last year)</td>\n",
       "      <td>Текущий на налог на прибыль (на конец последне...</td>\n",
       "    </tr>\n",
       "    <tr>\n",
       "      <th>9</th>\n",
       "      <td>ar_other_profit_and_losses</td>\n",
       "      <td>Other income and expenses (at the end of the l...</td>\n",
       "      <td>Прочие доходы и расходы (на конец последнего г...</td>\n",
       "    </tr>\n",
       "    <tr>\n",
       "      <th>10</th>\n",
       "      <td>ar_net_profit</td>\n",
       "      <td>Net profit (at the end of the last year)</td>\n",
       "      <td>Чистая прибыль (на конец последнего года)</td>\n",
       "    </tr>\n",
       "    <tr>\n",
       "      <th>11</th>\n",
       "      <td>ab_immobilized_assets</td>\n",
       "      <td>Fixed assets for the last year</td>\n",
       "      <td>Основные внеоборотные средства за последний год</td>\n",
       "    </tr>\n",
       "    <tr>\n",
       "      <th>12</th>\n",
       "      <td>ab_mobile_current_assets</td>\n",
       "      <td>Current assets (at the end of the last year)</td>\n",
       "      <td>Оборотные активы (на конец последнего года)</td>\n",
       "    </tr>\n",
       "    <tr>\n",
       "      <th>13</th>\n",
       "      <td>ab_inventory</td>\n",
       "      <td>Stocks (at the end of the last year)</td>\n",
       "      <td>Запасы (на конец последнего года)</td>\n",
       "    </tr>\n",
       "    <tr>\n",
       "      <th>14</th>\n",
       "      <td>ab_accounts_receivable</td>\n",
       "      <td>Accounts receivable (at the end of the last year)</td>\n",
       "      <td>Дебиторская задолженность (на конец последнего...</td>\n",
       "    </tr>\n",
       "    <tr>\n",
       "      <th>15</th>\n",
       "      <td>ab_other_current_assets</td>\n",
       "      <td>Other current assets (at the end of the last y...</td>\n",
       "      <td>Прочие оборотные активы (на конец последнего г...</td>\n",
       "    </tr>\n",
       "    <tr>\n",
       "      <th>16</th>\n",
       "      <td>ab_cash_and_securities</td>\n",
       "      <td>Cash and cash equivalents (at the end of the l...</td>\n",
       "      <td>Денежные средства и денежные эквиваленты (на к...</td>\n",
       "    </tr>\n",
       "    <tr>\n",
       "      <th>17</th>\n",
       "      <td>ab_losses</td>\n",
       "      <td>Retained earnings (at the end of the last year)</td>\n",
       "      <td>Нераспределенная прибыль (на конец последнего ...</td>\n",
       "    </tr>\n",
       "    <tr>\n",
       "      <th>18</th>\n",
       "      <td>ab_own_capital</td>\n",
       "      <td>Capital (at the end of the last year)</td>\n",
       "      <td>Капитал (на конец последнего года)</td>\n",
       "    </tr>\n",
       "    <tr>\n",
       "      <th>19</th>\n",
       "      <td>ab_borrowed_capital</td>\n",
       "      <td>Total debt (end of last year)</td>\n",
       "      <td>Общие долговые обязательства (на конец последн...</td>\n",
       "    </tr>\n",
       "    <tr>\n",
       "      <th>20</th>\n",
       "      <td>ab_long_term_liabilities</td>\n",
       "      <td>Long-term liabilities (at the end of the last ...</td>\n",
       "      <td>Долгосрочный обязательства (на конец последнег...</td>\n",
       "    </tr>\n",
       "    <tr>\n",
       "      <th>21</th>\n",
       "      <td>ab_short_term_borrowing</td>\n",
       "      <td>Short-term borrowed funds (at the end of the l...</td>\n",
       "      <td>Краткосрочные заемные средства (на конец после...</td>\n",
       "    </tr>\n",
       "    <tr>\n",
       "      <th>22</th>\n",
       "      <td>ab_accounts_payable</td>\n",
       "      <td>Accounts payable for the last year</td>\n",
       "      <td>Кредиторская задодженность за последний год</td>\n",
       "    </tr>\n",
       "    <tr>\n",
       "      <th>23</th>\n",
       "      <td>ab_other_borrowings</td>\n",
       "      <td>Other liabilities (at the end of the last year)</td>\n",
       "      <td>Прочие обязательства (на конец последнего года)</td>\n",
       "    </tr>\n",
       "    <tr>\n",
       "      <th>24</th>\n",
       "      <td>bus_age</td>\n",
       "      <td>Business duration</td>\n",
       "      <td>Срок ведения бизнеса</td>\n",
       "    </tr>\n",
       "    <tr>\n",
       "      <th>25</th>\n",
       "      <td>ogrn_age</td>\n",
       "      <td>Term from the moment the PSRN was assigned</td>\n",
       "      <td>Срок с момента присваивания ОГРН</td>\n",
       "    </tr>\n",
       "    <tr>\n",
       "      <th>26</th>\n",
       "      <td>adr_actual_age</td>\n",
       "      <td>Term from the date of registration of the lega...</td>\n",
       "      <td>Срок с момента регистрации юридического адреса</td>\n",
       "    </tr>\n",
       "    <tr>\n",
       "      <th>27</th>\n",
       "      <td>head_actual_age</td>\n",
       "      <td>Term since the appointment of the head</td>\n",
       "      <td>Срок с момента назначения руководителя</td>\n",
       "    </tr>\n",
       "    <tr>\n",
       "      <th>28</th>\n",
       "      <td>cap_actual_age</td>\n",
       "      <td>Term from the moment of capital installation</td>\n",
       "      <td>Срок с момента установки капитала</td>\n",
       "    </tr>\n",
       "    <tr>\n",
       "      <th>29</th>\n",
       "      <td>ul_staff_range</td>\n",
       "      <td>The number of employees</td>\n",
       "      <td>Количество сотрудников</td>\n",
       "    </tr>\n",
       "    <tr>\n",
       "      <th>30</th>\n",
       "      <td>ul_capital_sum</td>\n",
       "      <td>Capital amount</td>\n",
       "      <td>Величина капитала</td>\n",
       "    </tr>\n",
       "    <tr>\n",
       "      <th>31</th>\n",
       "      <td>ul_founders_cnt</td>\n",
       "      <td>Number of shareholders</td>\n",
       "      <td>Количество акционеров</td>\n",
       "    </tr>\n",
       "    <tr>\n",
       "      <th>32</th>\n",
       "      <td>ul_branch_cnt</td>\n",
       "      <td>Number of branches</td>\n",
       "      <td>Количество филиалов</td>\n",
       "    </tr>\n",
       "    <tr>\n",
       "      <th>33</th>\n",
       "      <td>ul_strategic_flg</td>\n",
       "      <td>A company of strategic importance</td>\n",
       "      <td>Компания стратегического значения</td>\n",
       "    </tr>\n",
       "    <tr>\n",
       "      <th>34</th>\n",
       "      <td>ul_systematizing_flg</td>\n",
       "      <td>Backbone company</td>\n",
       "      <td>Системообразующая компания</td>\n",
       "    </tr>\n",
       "  </tbody>\n",
       "</table>\n",
       "</div>"
      ],
      "text/plain": [
       "                           field   \n",
       "0                     ar_revenue  \\\n",
       "1              ar_total_expenses   \n",
       "2                   ar_sale_cost   \n",
       "3            ar_selling_expenses   \n",
       "4         ar_management_expenses   \n",
       "5                 ar_sale_profit   \n",
       "6   ar_balance_of_rvns_and_expns   \n",
       "7           ar_profit_before_tax   \n",
       "8                       ar_taxes   \n",
       "9     ar_other_profit_and_losses   \n",
       "10                 ar_net_profit   \n",
       "11         ab_immobilized_assets   \n",
       "12      ab_mobile_current_assets   \n",
       "13                  ab_inventory   \n",
       "14        ab_accounts_receivable   \n",
       "15       ab_other_current_assets   \n",
       "16        ab_cash_and_securities   \n",
       "17                     ab_losses   \n",
       "18                ab_own_capital   \n",
       "19           ab_borrowed_capital   \n",
       "20      ab_long_term_liabilities   \n",
       "21       ab_short_term_borrowing   \n",
       "22           ab_accounts_payable   \n",
       "23           ab_other_borrowings   \n",
       "24                       bus_age   \n",
       "25                      ogrn_age   \n",
       "26                adr_actual_age   \n",
       "27               head_actual_age   \n",
       "28                cap_actual_age   \n",
       "29                ul_staff_range   \n",
       "30                ul_capital_sum   \n",
       "31               ul_founders_cnt   \n",
       "32                 ul_branch_cnt   \n",
       "33              ul_strategic_flg   \n",
       "34          ul_systematizing_flg   \n",
       "\n",
       "                                             desc_eng   \n",
       "0         Sales revenue (at the end of the last year)  \\\n",
       "1                    Total expenses for the last year   \n",
       "2         Cost of sales (at the end of the last year)   \n",
       "3      Selling expenses (at the end of the last year)   \n",
       "4   Administrative expenses (at the end of the las...   \n",
       "5     Profit from sales (at the end of the last year)   \n",
       "6   Balance of income and expenses (at the end of ...   \n",
       "7                     Gross Profit (end of last year)   \n",
       "8    Current income tax (at the end of the last year)   \n",
       "9   Other income and expenses (at the end of the l...   \n",
       "10           Net profit (at the end of the last year)   \n",
       "11                     Fixed assets for the last year   \n",
       "12       Current assets (at the end of the last year)   \n",
       "13               Stocks (at the end of the last year)   \n",
       "14  Accounts receivable (at the end of the last year)   \n",
       "15  Other current assets (at the end of the last y...   \n",
       "16  Cash and cash equivalents (at the end of the l...   \n",
       "17    Retained earnings (at the end of the last year)   \n",
       "18              Capital (at the end of the last year)   \n",
       "19                      Total debt (end of last year)   \n",
       "20  Long-term liabilities (at the end of the last ...   \n",
       "21  Short-term borrowed funds (at the end of the l...   \n",
       "22                 Accounts payable for the last year   \n",
       "23    Other liabilities (at the end of the last year)   \n",
       "24                                  Business duration   \n",
       "25         Term from the moment the PSRN was assigned   \n",
       "26  Term from the date of registration of the lega...   \n",
       "27             Term since the appointment of the head   \n",
       "28       Term from the moment of capital installation   \n",
       "29                            The number of employees   \n",
       "30                                     Capital amount   \n",
       "31                             Number of shareholders   \n",
       "32                                 Number of branches   \n",
       "33                  A company of strategic importance   \n",
       "34                                   Backbone company   \n",
       "\n",
       "                                             desc_rus  \n",
       "0    Выручка от реализации (на конец последнего года)  \n",
       "1                      Общие расходы за последний год  \n",
       "2     Себестоимость продаж (на конец последнего года)  \n",
       "3     Коммерческие расходы (на конец последнего года)  \n",
       "4   Управленческие расходы (на конец последнего года)  \n",
       "5    Прибыль от реализации (на конец последнего года)  \n",
       "6   Баланс доходов и расходов (на конец последнего...  \n",
       "7          Валовая прибыль (на конец последнего года)  \n",
       "8   Текущий на налог на прибыль (на конец последне...  \n",
       "9   Прочие доходы и расходы (на конец последнего г...  \n",
       "10          Чистая прибыль (на конец последнего года)  \n",
       "11    Основные внеоборотные средства за последний год  \n",
       "12        Оборотные активы (на конец последнего года)  \n",
       "13                  Запасы (на конец последнего года)  \n",
       "14  Дебиторская задолженность (на конец последнего...  \n",
       "15  Прочие оборотные активы (на конец последнего г...  \n",
       "16  Денежные средства и денежные эквиваленты (на к...  \n",
       "17  Нераспределенная прибыль (на конец последнего ...  \n",
       "18                 Капитал (на конец последнего года)  \n",
       "19  Общие долговые обязательства (на конец последн...  \n",
       "20  Долгосрочный обязательства (на конец последнег...  \n",
       "21  Краткосрочные заемные средства (на конец после...  \n",
       "22        Кредиторская задодженность за последний год  \n",
       "23    Прочие обязательства (на конец последнего года)  \n",
       "24                               Срок ведения бизнеса  \n",
       "25                   Срок с момента присваивания ОГРН  \n",
       "26     Срок с момента регистрации юридического адреса  \n",
       "27             Срок с момента назначения руководителя  \n",
       "28                  Срок с момента установки капитала  \n",
       "29                             Количество сотрудников  \n",
       "30                                  Величина капитала  \n",
       "31                              Количество акционеров  \n",
       "32                                Количество филиалов  \n",
       "33                  Компания стратегического значения  \n",
       "34                         Системообразующая компания  "
      ]
     },
     "execution_count": 229,
     "metadata": {},
     "output_type": "execute_result"
    }
   ],
   "source": [
    "desc_df"
   ]
  },
  {
   "cell_type": "markdown",
   "metadata": {
    "colab_type": "text",
    "id": "An6p1hDkN92J"
   },
   "source": [
    "Семплы и размеры выборок"
   ]
  },
  {
   "cell_type": "code",
   "execution_count": 230,
   "metadata": {
    "colab": {
     "base_uri": "https://localhost:8080/",
     "height": 211
    },
    "colab_type": "code",
    "id": "FDqOr3Du8C1Y",
    "outputId": "5fa6016a-6113-459c-a67e-9fd3d2fff623"
   },
   "outputs": [
    {
     "data": {
      "text/html": [
       "<div>\n",
       "<style scoped>\n",
       "    .dataframe tbody tr th:only-of-type {\n",
       "        vertical-align: middle;\n",
       "    }\n",
       "\n",
       "    .dataframe tbody tr th {\n",
       "        vertical-align: top;\n",
       "    }\n",
       "\n",
       "    .dataframe thead th {\n",
       "        text-align: right;\n",
       "    }\n",
       "</style>\n",
       "<table border=\"1\" class=\"dataframe\">\n",
       "  <thead>\n",
       "    <tr style=\"text-align: right;\">\n",
       "      <th></th>\n",
       "      <th>record_id</th>\n",
       "      <th>ar_revenue</th>\n",
       "      <th>ar_total_expenses</th>\n",
       "      <th>ar_sale_cost</th>\n",
       "      <th>ar_selling_expenses</th>\n",
       "      <th>ar_management_expenses</th>\n",
       "      <th>ar_sale_profit</th>\n",
       "      <th>ar_balance_of_rvns_and_expns</th>\n",
       "      <th>ar_profit_before_tax</th>\n",
       "      <th>ar_taxes</th>\n",
       "      <th>...</th>\n",
       "      <th>adr_actual_age</th>\n",
       "      <th>head_actual_age</th>\n",
       "      <th>cap_actual_age</th>\n",
       "      <th>ul_staff_range</th>\n",
       "      <th>ul_capital_sum</th>\n",
       "      <th>ul_founders_cnt</th>\n",
       "      <th>ul_branch_cnt</th>\n",
       "      <th>ul_strategic_flg</th>\n",
       "      <th>ul_systematizing_flg</th>\n",
       "      <th>default_12m</th>\n",
       "    </tr>\n",
       "  </thead>\n",
       "  <tbody>\n",
       "    <tr>\n",
       "      <th>0</th>\n",
       "      <td>7</td>\n",
       "      <td>52996000.0</td>\n",
       "      <td>48344000.0</td>\n",
       "      <td>48344000.0</td>\n",
       "      <td>0.0</td>\n",
       "      <td>0.0</td>\n",
       "      <td>4652000.0</td>\n",
       "      <td>-2608000.0</td>\n",
       "      <td>2044000.0</td>\n",
       "      <td>846000.0</td>\n",
       "      <td>...</td>\n",
       "      <td>3</td>\n",
       "      <td>3</td>\n",
       "      <td>3</td>\n",
       "      <td>[1-100]</td>\n",
       "      <td>50000.0</td>\n",
       "      <td>2</td>\n",
       "      <td>0</td>\n",
       "      <td>0</td>\n",
       "      <td>0</td>\n",
       "      <td>0</td>\n",
       "    </tr>\n",
       "    <tr>\n",
       "      <th>1</th>\n",
       "      <td>13</td>\n",
       "      <td>NaN</td>\n",
       "      <td>NaN</td>\n",
       "      <td>NaN</td>\n",
       "      <td>NaN</td>\n",
       "      <td>NaN</td>\n",
       "      <td>NaN</td>\n",
       "      <td>NaN</td>\n",
       "      <td>NaN</td>\n",
       "      <td>NaN</td>\n",
       "      <td>...</td>\n",
       "      <td>12</td>\n",
       "      <td>12</td>\n",
       "      <td>12</td>\n",
       "      <td>[1-100]</td>\n",
       "      <td>10000.0</td>\n",
       "      <td>5</td>\n",
       "      <td>0</td>\n",
       "      <td>0</td>\n",
       "      <td>0</td>\n",
       "      <td>0</td>\n",
       "    </tr>\n",
       "    <tr>\n",
       "      <th>2</th>\n",
       "      <td>18</td>\n",
       "      <td>NaN</td>\n",
       "      <td>NaN</td>\n",
       "      <td>NaN</td>\n",
       "      <td>NaN</td>\n",
       "      <td>NaN</td>\n",
       "      <td>NaN</td>\n",
       "      <td>NaN</td>\n",
       "      <td>NaN</td>\n",
       "      <td>NaN</td>\n",
       "      <td>...</td>\n",
       "      <td>28</td>\n",
       "      <td>28</td>\n",
       "      <td>28</td>\n",
       "      <td>[1-100]</td>\n",
       "      <td>10000.0</td>\n",
       "      <td>2</td>\n",
       "      <td>0</td>\n",
       "      <td>0</td>\n",
       "      <td>0</td>\n",
       "      <td>0</td>\n",
       "    </tr>\n",
       "    <tr>\n",
       "      <th>3</th>\n",
       "      <td>22</td>\n",
       "      <td>32049000.0</td>\n",
       "      <td>29568000.0</td>\n",
       "      <td>29568000.0</td>\n",
       "      <td>0.0</td>\n",
       "      <td>0.0</td>\n",
       "      <td>2481000.0</td>\n",
       "      <td>-260000.0</td>\n",
       "      <td>2221000.0</td>\n",
       "      <td>302000.0</td>\n",
       "      <td>...</td>\n",
       "      <td>8</td>\n",
       "      <td>8</td>\n",
       "      <td>8</td>\n",
       "      <td>[1-100]</td>\n",
       "      <td>300000.0</td>\n",
       "      <td>1</td>\n",
       "      <td>0</td>\n",
       "      <td>0</td>\n",
       "      <td>0</td>\n",
       "      <td>0</td>\n",
       "    </tr>\n",
       "    <tr>\n",
       "      <th>4</th>\n",
       "      <td>23</td>\n",
       "      <td>16458000.0</td>\n",
       "      <td>14935000.0</td>\n",
       "      <td>14935000.0</td>\n",
       "      <td>0.0</td>\n",
       "      <td>0.0</td>\n",
       "      <td>1523000.0</td>\n",
       "      <td>-274000.0</td>\n",
       "      <td>1249000.0</td>\n",
       "      <td>538000.0</td>\n",
       "      <td>...</td>\n",
       "      <td>27</td>\n",
       "      <td>27</td>\n",
       "      <td>27</td>\n",
       "      <td>[1-100]</td>\n",
       "      <td>10000.0</td>\n",
       "      <td>2</td>\n",
       "      <td>0</td>\n",
       "      <td>0</td>\n",
       "      <td>0</td>\n",
       "      <td>0</td>\n",
       "    </tr>\n",
       "  </tbody>\n",
       "</table>\n",
       "<p>5 rows × 37 columns</p>\n",
       "</div>"
      ],
      "text/plain": [
       "   record_id  ar_revenue  ar_total_expenses  ar_sale_cost   \n",
       "0          7  52996000.0         48344000.0    48344000.0  \\\n",
       "1         13         NaN                NaN           NaN   \n",
       "2         18         NaN                NaN           NaN   \n",
       "3         22  32049000.0         29568000.0    29568000.0   \n",
       "4         23  16458000.0         14935000.0    14935000.0   \n",
       "\n",
       "   ar_selling_expenses  ar_management_expenses  ar_sale_profit   \n",
       "0                  0.0                     0.0       4652000.0  \\\n",
       "1                  NaN                     NaN             NaN   \n",
       "2                  NaN                     NaN             NaN   \n",
       "3                  0.0                     0.0       2481000.0   \n",
       "4                  0.0                     0.0       1523000.0   \n",
       "\n",
       "   ar_balance_of_rvns_and_expns  ar_profit_before_tax  ar_taxes  ...   \n",
       "0                    -2608000.0             2044000.0  846000.0  ...  \\\n",
       "1                           NaN                   NaN       NaN  ...   \n",
       "2                           NaN                   NaN       NaN  ...   \n",
       "3                     -260000.0             2221000.0  302000.0  ...   \n",
       "4                     -274000.0             1249000.0  538000.0  ...   \n",
       "\n",
       "   adr_actual_age  head_actual_age  cap_actual_age  ul_staff_range   \n",
       "0               3                3               3         [1-100]  \\\n",
       "1              12               12              12         [1-100]   \n",
       "2              28               28              28         [1-100]   \n",
       "3               8                8               8         [1-100]   \n",
       "4              27               27              27         [1-100]   \n",
       "\n",
       "   ul_capital_sum  ul_founders_cnt  ul_branch_cnt  ul_strategic_flg   \n",
       "0         50000.0                2              0                 0  \\\n",
       "1         10000.0                5              0                 0   \n",
       "2         10000.0                2              0                 0   \n",
       "3        300000.0                1              0                 0   \n",
       "4         10000.0                2              0                 0   \n",
       "\n",
       "   ul_systematizing_flg  default_12m  \n",
       "0                     0            0  \n",
       "1                     0            0  \n",
       "2                     0            0  \n",
       "3                     0            0  \n",
       "4                     0            0  \n",
       "\n",
       "[5 rows x 37 columns]"
      ]
     },
     "execution_count": 230,
     "metadata": {},
     "output_type": "execute_result"
    }
   ],
   "source": [
    "train_df.head()"
   ]
  },
  {
   "cell_type": "code",
   "execution_count": 231,
   "metadata": {
    "colab": {
     "base_uri": "https://localhost:8080/",
     "height": 33
    },
    "colab_type": "code",
    "id": "wW_OWNg-8Hfi",
    "outputId": "bf27a3ab-e63d-4f0a-e9c8-8636e885ab01"
   },
   "outputs": [
    {
     "data": {
      "text/plain": [
       "(32195, 37)"
      ]
     },
     "execution_count": 231,
     "metadata": {},
     "output_type": "execute_result"
    }
   ],
   "source": [
    "train_df.shape"
   ]
  },
  {
   "cell_type": "code",
   "execution_count": 232,
   "metadata": {
    "colab": {
     "base_uri": "https://localhost:8080/",
     "height": 211
    },
    "colab_type": "code",
    "id": "YLkB3G8P8EF9",
    "outputId": "abf47c85-164f-4596-b9d5-8db8b7ee539a"
   },
   "outputs": [
    {
     "data": {
      "text/html": [
       "<div>\n",
       "<style scoped>\n",
       "    .dataframe tbody tr th:only-of-type {\n",
       "        vertical-align: middle;\n",
       "    }\n",
       "\n",
       "    .dataframe tbody tr th {\n",
       "        vertical-align: top;\n",
       "    }\n",
       "\n",
       "    .dataframe thead th {\n",
       "        text-align: right;\n",
       "    }\n",
       "</style>\n",
       "<table border=\"1\" class=\"dataframe\">\n",
       "  <thead>\n",
       "    <tr style=\"text-align: right;\">\n",
       "      <th></th>\n",
       "      <th>record_id</th>\n",
       "      <th>ar_revenue</th>\n",
       "      <th>ar_total_expenses</th>\n",
       "      <th>ar_sale_cost</th>\n",
       "      <th>ar_selling_expenses</th>\n",
       "      <th>ar_management_expenses</th>\n",
       "      <th>ar_sale_profit</th>\n",
       "      <th>ar_balance_of_rvns_and_expns</th>\n",
       "      <th>ar_profit_before_tax</th>\n",
       "      <th>ar_taxes</th>\n",
       "      <th>...</th>\n",
       "      <th>ogrn_age</th>\n",
       "      <th>adr_actual_age</th>\n",
       "      <th>head_actual_age</th>\n",
       "      <th>cap_actual_age</th>\n",
       "      <th>ul_staff_range</th>\n",
       "      <th>ul_capital_sum</th>\n",
       "      <th>ul_founders_cnt</th>\n",
       "      <th>ul_branch_cnt</th>\n",
       "      <th>ul_strategic_flg</th>\n",
       "      <th>ul_systematizing_flg</th>\n",
       "    </tr>\n",
       "  </thead>\n",
       "  <tbody>\n",
       "    <tr>\n",
       "      <th>0</th>\n",
       "      <td>40</td>\n",
       "      <td>125432000.0</td>\n",
       "      <td>122655000.0</td>\n",
       "      <td>122655000.0</td>\n",
       "      <td>0.0</td>\n",
       "      <td>0.0</td>\n",
       "      <td>2777000.0</td>\n",
       "      <td>-63000.0</td>\n",
       "      <td>2714000.0</td>\n",
       "      <td>579000.0</td>\n",
       "      <td>...</td>\n",
       "      <td>132</td>\n",
       "      <td>15</td>\n",
       "      <td>15</td>\n",
       "      <td>15</td>\n",
       "      <td>(100-500]</td>\n",
       "      <td>10000.0</td>\n",
       "      <td>2</td>\n",
       "      <td>0</td>\n",
       "      <td>0</td>\n",
       "      <td>0</td>\n",
       "    </tr>\n",
       "    <tr>\n",
       "      <th>1</th>\n",
       "      <td>701</td>\n",
       "      <td>22458000.0</td>\n",
       "      <td>20201000.0</td>\n",
       "      <td>20201000.0</td>\n",
       "      <td>0.0</td>\n",
       "      <td>0.0</td>\n",
       "      <td>2257000.0</td>\n",
       "      <td>-749000.0</td>\n",
       "      <td>1508000.0</td>\n",
       "      <td>302000.0</td>\n",
       "      <td>...</td>\n",
       "      <td>76</td>\n",
       "      <td>29</td>\n",
       "      <td>29</td>\n",
       "      <td>29</td>\n",
       "      <td>[1-100]</td>\n",
       "      <td>11000.0</td>\n",
       "      <td>1</td>\n",
       "      <td>0</td>\n",
       "      <td>0</td>\n",
       "      <td>0</td>\n",
       "    </tr>\n",
       "    <tr>\n",
       "      <th>2</th>\n",
       "      <td>1497</td>\n",
       "      <td>33616000.0</td>\n",
       "      <td>20742000.0</td>\n",
       "      <td>20742000.0</td>\n",
       "      <td>0.0</td>\n",
       "      <td>0.0</td>\n",
       "      <td>12874000.0</td>\n",
       "      <td>-2949000.0</td>\n",
       "      <td>9925000.0</td>\n",
       "      <td>0.0</td>\n",
       "      <td>...</td>\n",
       "      <td>139</td>\n",
       "      <td>3</td>\n",
       "      <td>3</td>\n",
       "      <td>3</td>\n",
       "      <td>[1-100]</td>\n",
       "      <td>900.0</td>\n",
       "      <td>9</td>\n",
       "      <td>0</td>\n",
       "      <td>0</td>\n",
       "      <td>0</td>\n",
       "    </tr>\n",
       "    <tr>\n",
       "      <th>3</th>\n",
       "      <td>1687</td>\n",
       "      <td>12744000.0</td>\n",
       "      <td>6201000.0</td>\n",
       "      <td>6201000.0</td>\n",
       "      <td>0.0</td>\n",
       "      <td>0.0</td>\n",
       "      <td>6543000.0</td>\n",
       "      <td>-3898000.0</td>\n",
       "      <td>2645000.0</td>\n",
       "      <td>0.0</td>\n",
       "      <td>...</td>\n",
       "      <td>135</td>\n",
       "      <td>24</td>\n",
       "      <td>24</td>\n",
       "      <td>24</td>\n",
       "      <td>[1-100]</td>\n",
       "      <td>10000.0</td>\n",
       "      <td>1</td>\n",
       "      <td>0</td>\n",
       "      <td>0</td>\n",
       "      <td>0</td>\n",
       "    </tr>\n",
       "    <tr>\n",
       "      <th>4</th>\n",
       "      <td>2033</td>\n",
       "      <td>49307000.0</td>\n",
       "      <td>43964000.0</td>\n",
       "      <td>43964000.0</td>\n",
       "      <td>0.0</td>\n",
       "      <td>0.0</td>\n",
       "      <td>5343000.0</td>\n",
       "      <td>-1795000.0</td>\n",
       "      <td>3548000.0</td>\n",
       "      <td>0.0</td>\n",
       "      <td>...</td>\n",
       "      <td>140</td>\n",
       "      <td>25</td>\n",
       "      <td>25</td>\n",
       "      <td>25</td>\n",
       "      <td>[1-100]</td>\n",
       "      <td>11550.0</td>\n",
       "      <td>1</td>\n",
       "      <td>0</td>\n",
       "      <td>0</td>\n",
       "      <td>0</td>\n",
       "    </tr>\n",
       "  </tbody>\n",
       "</table>\n",
       "<p>5 rows × 36 columns</p>\n",
       "</div>"
      ],
      "text/plain": [
       "   record_id   ar_revenue  ar_total_expenses  ar_sale_cost   \n",
       "0         40  125432000.0        122655000.0   122655000.0  \\\n",
       "1        701   22458000.0         20201000.0    20201000.0   \n",
       "2       1497   33616000.0         20742000.0    20742000.0   \n",
       "3       1687   12744000.0          6201000.0     6201000.0   \n",
       "4       2033   49307000.0         43964000.0    43964000.0   \n",
       "\n",
       "   ar_selling_expenses  ar_management_expenses  ar_sale_profit   \n",
       "0                  0.0                     0.0       2777000.0  \\\n",
       "1                  0.0                     0.0       2257000.0   \n",
       "2                  0.0                     0.0      12874000.0   \n",
       "3                  0.0                     0.0       6543000.0   \n",
       "4                  0.0                     0.0       5343000.0   \n",
       "\n",
       "   ar_balance_of_rvns_and_expns  ar_profit_before_tax  ar_taxes  ...   \n",
       "0                      -63000.0             2714000.0  579000.0  ...  \\\n",
       "1                     -749000.0             1508000.0  302000.0  ...   \n",
       "2                    -2949000.0             9925000.0       0.0  ...   \n",
       "3                    -3898000.0             2645000.0       0.0  ...   \n",
       "4                    -1795000.0             3548000.0       0.0  ...   \n",
       "\n",
       "   ogrn_age  adr_actual_age  head_actual_age  cap_actual_age  ul_staff_range   \n",
       "0       132              15               15              15       (100-500]  \\\n",
       "1        76              29               29              29         [1-100]   \n",
       "2       139               3                3               3         [1-100]   \n",
       "3       135              24               24              24         [1-100]   \n",
       "4       140              25               25              25         [1-100]   \n",
       "\n",
       "   ul_capital_sum  ul_founders_cnt  ul_branch_cnt  ul_strategic_flg   \n",
       "0         10000.0                2              0                 0  \\\n",
       "1         11000.0                1              0                 0   \n",
       "2           900.0                9              0                 0   \n",
       "3         10000.0                1              0                 0   \n",
       "4         11550.0                1              0                 0   \n",
       "\n",
       "   ul_systematizing_flg  \n",
       "0                     0  \n",
       "1                     0  \n",
       "2                     0  \n",
       "3                     0  \n",
       "4                     0  \n",
       "\n",
       "[5 rows x 36 columns]"
      ]
     },
     "execution_count": 232,
     "metadata": {},
     "output_type": "execute_result"
    }
   ],
   "source": [
    "test_df.head()"
   ]
  },
  {
   "cell_type": "code",
   "execution_count": 233,
   "metadata": {
    "colab": {
     "base_uri": "https://localhost:8080/",
     "height": 33
    },
    "colab_type": "code",
    "id": "ap4HITfx8KC7",
    "outputId": "9ecd124f-3866-4416-e981-2994f08ef16f"
   },
   "outputs": [
    {
     "data": {
      "text/plain": [
       "(200, 36)"
      ]
     },
     "execution_count": 233,
     "metadata": {},
     "output_type": "execute_result"
    }
   ],
   "source": [
    "test_df.shape"
   ]
  },
  {
   "cell_type": "markdown",
   "metadata": {
    "colab_type": "text",
    "id": "H06Wcg09N92N"
   },
   "source": [
    "Количество разных типов признаков"
   ]
  },
  {
   "cell_type": "code",
   "execution_count": 234,
   "metadata": {
    "colab": {
     "base_uri": "https://localhost:8080/",
     "height": 82
    },
    "colab_type": "code",
    "id": "cYOxzyvLN92O",
    "outputId": "8d0185c7-5342-4f91-c287-1dc422fa1b55"
   },
   "outputs": [
    {
     "data": {
      "text/plain": [
       "float64    25\n",
       "int64      11\n",
       "object      1\n",
       "Name: count, dtype: int64"
      ]
     },
     "execution_count": 234,
     "metadata": {},
     "output_type": "execute_result"
    }
   ],
   "source": [
    "train_df.dtypes.value_counts()"
   ]
  },
  {
   "cell_type": "markdown",
   "metadata": {
    "colab_type": "text",
    "id": "f8ZLAgMeN92R"
   },
   "source": [
    "Уровень дефолт-рейта в выборке = 6,45%:"
   ]
  },
  {
   "cell_type": "code",
   "execution_count": 235,
   "metadata": {
    "colab": {
     "base_uri": "https://localhost:8080/",
     "height": 33
    },
    "colab_type": "code",
    "id": "LTHNGVxTN92S",
    "outputId": "0235aafa-033e-432e-99ef-08326f1880a1"
   },
   "outputs": [
    {
     "data": {
      "text/plain": [
       "0.06448206243205466"
      ]
     },
     "execution_count": 235,
     "metadata": {},
     "output_type": "execute_result"
    }
   ],
   "source": [
    "train_df['default_12m'].values.mean()"
   ]
  },
  {
   "cell_type": "markdown",
   "metadata": {
    "colab_type": "text",
    "id": "vo_LbDC0N92a"
   },
   "source": [
    "32195 уникальных наблюдений:"
   ]
  },
  {
   "cell_type": "code",
   "execution_count": 236,
   "metadata": {
    "colab": {
     "base_uri": "https://localhost:8080/",
     "height": 33
    },
    "colab_type": "code",
    "id": "47MrTU_xN92X",
    "outputId": "f759ebbb-4ae4-4732-ab21-136a0c530ef3"
   },
   "outputs": [
    {
     "data": {
      "text/plain": [
       "32195"
      ]
     },
     "execution_count": 236,
     "metadata": {},
     "output_type": "execute_result"
    }
   ],
   "source": [
    "train_df.record_id.nunique()"
   ]
  },
  {
   "cell_type": "markdown",
   "metadata": {
    "colab_type": "text",
    "id": "tIkwdsWrN92b"
   },
   "source": [
    "### Строим baseline-модель c 3 признаками"
   ]
  },
  {
   "cell_type": "code",
   "execution_count": 237,
   "metadata": {
    "colab": {},
    "colab_type": "code",
    "id": "A_XNOaYeN92b"
   },
   "outputs": [],
   "source": [
    "features = ['bus_age','ul_capital_sum', 'ul_founders_cnt']"
   ]
  },
  {
   "cell_type": "code",
   "execution_count": 238,
   "metadata": {
    "colab": {},
    "colab_type": "code",
    "id": "GzVaIYtKN92e"
   },
   "outputs": [],
   "source": [
    "features_df = train_df.loc[:,features]\n",
    "features_df['default_12m'] = train_df['default_12m']"
   ]
  },
  {
   "cell_type": "code",
   "execution_count": 239,
   "metadata": {
    "colab": {
     "base_uri": "https://localhost:8080/",
     "height": 191
    },
    "colab_type": "code",
    "id": "iGuLdQOKN92h",
    "outputId": "b3f0ccb0-3732-4c3f-e3ca-af808e3510a1"
   },
   "outputs": [
    {
     "data": {
      "text/html": [
       "<div>\n",
       "<style scoped>\n",
       "    .dataframe tbody tr th:only-of-type {\n",
       "        vertical-align: middle;\n",
       "    }\n",
       "\n",
       "    .dataframe tbody tr th {\n",
       "        vertical-align: top;\n",
       "    }\n",
       "\n",
       "    .dataframe thead th {\n",
       "        text-align: right;\n",
       "    }\n",
       "</style>\n",
       "<table border=\"1\" class=\"dataframe\">\n",
       "  <thead>\n",
       "    <tr style=\"text-align: right;\">\n",
       "      <th></th>\n",
       "      <th>bus_age</th>\n",
       "      <th>ul_capital_sum</th>\n",
       "      <th>ul_founders_cnt</th>\n",
       "      <th>default_12m</th>\n",
       "    </tr>\n",
       "  </thead>\n",
       "  <tbody>\n",
       "    <tr>\n",
       "      <th>0</th>\n",
       "      <td>198</td>\n",
       "      <td>50000.0</td>\n",
       "      <td>2</td>\n",
       "      <td>0</td>\n",
       "    </tr>\n",
       "    <tr>\n",
       "      <th>1</th>\n",
       "      <td>256</td>\n",
       "      <td>10000.0</td>\n",
       "      <td>5</td>\n",
       "      <td>0</td>\n",
       "    </tr>\n",
       "    <tr>\n",
       "      <th>2</th>\n",
       "      <td>33</td>\n",
       "      <td>10000.0</td>\n",
       "      <td>2</td>\n",
       "      <td>0</td>\n",
       "    </tr>\n",
       "    <tr>\n",
       "      <th>3</th>\n",
       "      <td>185</td>\n",
       "      <td>300000.0</td>\n",
       "      <td>1</td>\n",
       "      <td>0</td>\n",
       "    </tr>\n",
       "    <tr>\n",
       "      <th>4</th>\n",
       "      <td>220</td>\n",
       "      <td>10000.0</td>\n",
       "      <td>2</td>\n",
       "      <td>0</td>\n",
       "    </tr>\n",
       "  </tbody>\n",
       "</table>\n",
       "</div>"
      ],
      "text/plain": [
       "   bus_age  ul_capital_sum  ul_founders_cnt  default_12m\n",
       "0      198         50000.0                2            0\n",
       "1      256         10000.0                5            0\n",
       "2       33         10000.0                2            0\n",
       "3      185        300000.0                1            0\n",
       "4      220         10000.0                2            0"
      ]
     },
     "execution_count": 239,
     "metadata": {},
     "output_type": "execute_result"
    }
   ],
   "source": [
    "features_df.head()"
   ]
  },
  {
   "cell_type": "markdown",
   "metadata": {
    "colab_type": "text",
    "id": "zsaqlg0rN92k"
   },
   "source": [
    "### Построим карту корреляций"
   ]
  },
  {
   "cell_type": "code",
   "execution_count": 240,
   "metadata": {
    "colab": {
     "base_uri": "https://localhost:8080/",
     "height": 162
    },
    "colab_type": "code",
    "id": "PuTGDJNlN92l",
    "outputId": "0f36951f-783d-4933-e1d0-6fe921418619"
   },
   "outputs": [
    {
     "data": {
      "text/html": [
       "<div>\n",
       "<style scoped>\n",
       "    .dataframe tbody tr th:only-of-type {\n",
       "        vertical-align: middle;\n",
       "    }\n",
       "\n",
       "    .dataframe tbody tr th {\n",
       "        vertical-align: top;\n",
       "    }\n",
       "\n",
       "    .dataframe thead th {\n",
       "        text-align: right;\n",
       "    }\n",
       "</style>\n",
       "<table border=\"1\" class=\"dataframe\">\n",
       "  <thead>\n",
       "    <tr style=\"text-align: right;\">\n",
       "      <th></th>\n",
       "      <th>bus_age</th>\n",
       "      <th>ul_capital_sum</th>\n",
       "      <th>ul_founders_cnt</th>\n",
       "      <th>default_12m</th>\n",
       "    </tr>\n",
       "  </thead>\n",
       "  <tbody>\n",
       "    <tr>\n",
       "      <th>bus_age</th>\n",
       "      <td>1.000000</td>\n",
       "      <td>0.065668</td>\n",
       "      <td>0.209176</td>\n",
       "      <td>-0.109315</td>\n",
       "    </tr>\n",
       "    <tr>\n",
       "      <th>ul_capital_sum</th>\n",
       "      <td>0.065668</td>\n",
       "      <td>1.000000</td>\n",
       "      <td>0.024085</td>\n",
       "      <td>-0.019289</td>\n",
       "    </tr>\n",
       "    <tr>\n",
       "      <th>ul_founders_cnt</th>\n",
       "      <td>0.209176</td>\n",
       "      <td>0.024085</td>\n",
       "      <td>1.000000</td>\n",
       "      <td>-0.023077</td>\n",
       "    </tr>\n",
       "    <tr>\n",
       "      <th>default_12m</th>\n",
       "      <td>-0.109315</td>\n",
       "      <td>-0.019289</td>\n",
       "      <td>-0.023077</td>\n",
       "      <td>1.000000</td>\n",
       "    </tr>\n",
       "  </tbody>\n",
       "</table>\n",
       "</div>"
      ],
      "text/plain": [
       "                  bus_age  ul_capital_sum  ul_founders_cnt  default_12m\n",
       "bus_age          1.000000        0.065668         0.209176    -0.109315\n",
       "ul_capital_sum   0.065668        1.000000         0.024085    -0.019289\n",
       "ul_founders_cnt  0.209176        0.024085         1.000000    -0.023077\n",
       "default_12m     -0.109315       -0.019289        -0.023077     1.000000"
      ]
     },
     "execution_count": 240,
     "metadata": {},
     "output_type": "execute_result"
    }
   ],
   "source": [
    "features_df.corr()"
   ]
  },
  {
   "cell_type": "markdown",
   "metadata": {
    "colab_type": "text",
    "id": "DjygjQIM8u4Y"
   },
   "source": [
    "### Валидация результата"
   ]
  },
  {
   "cell_type": "code",
   "execution_count": 241,
   "metadata": {
    "colab": {
     "base_uri": "https://localhost:8080/",
     "height": 33
    },
    "colab_type": "code",
    "id": "NaH5PC4wN92n",
    "outputId": "5269e162-5799-4cad-e576-eecf0bf83ffc"
   },
   "outputs": [
    {
     "data": {
      "text/plain": [
       "0.48338646470019536"
      ]
     },
     "execution_count": 241,
     "metadata": {},
     "output_type": "execute_result"
    }
   ],
   "source": [
    "X_train, X_test, y_train, y_test = train_test_split(features_df.drop('default_12m',axis=1),\n",
    "                                                    features_df['default_12m'],\n",
    "                                                    random_state=42, shuffle=True)\n",
    "\n",
    "logit = LogisticRegression(C=1,solver='lbfgs',max_iter=1000)\n",
    "cv_baseline = cross_val_score(logit, X_train, y_train, cv=5, scoring='f1_macro').mean()\n",
    "cv_baseline"
   ]
  },
  {
   "cell_type": "markdown",
   "metadata": {
    "colab_type": "text",
    "collapsed": true,
    "id": "13BN0BG1N92q"
   },
   "source": [
    "F1_macro baseline-модели = 48.34%"
   ]
  },
  {
   "cell_type": "markdown",
   "metadata": {
    "colab_type": "text",
    "id": "JKsc2E3d8_ZN"
   },
   "source": [
    "### Обучение модели на всех данных"
   ]
  },
  {
   "cell_type": "code",
   "execution_count": 242,
   "metadata": {
    "colab": {
     "base_uri": "https://localhost:8080/",
     "height": 98
    },
    "colab_type": "code",
    "id": "8k4uVr9Q8sYs",
    "outputId": "5bce0293-ca15-42a8-8b8a-6ca9ecf05246"
   },
   "outputs": [
    {
     "data": {
      "text/plain": [
       "LogisticRegression(C=1, max_iter=1000)"
      ]
     },
     "execution_count": 242,
     "metadata": {},
     "output_type": "execute_result"
    }
   ],
   "source": [
    "logit.fit(features_df.drop('default_12m',axis=1), features_df['default_12m'])"
   ]
  },
  {
   "cell_type": "markdown",
   "metadata": {
    "colab_type": "text",
    "id": "OQ1Y1r6E9bvN"
   },
   "source": [
    "### Формирование файла с ответом"
   ]
  },
  {
   "cell_type": "code",
   "execution_count": 249,
   "metadata": {
    "colab": {},
    "colab_type": "code",
    "id": "_9YdWZm8-7k0"
   },
   "outputs": [],
   "source": [
    "answ_df = test_df[['record_id']]"
   ]
  },
  {
   "cell_type": "code",
   "execution_count": 250,
   "metadata": {
    "colab": {},
    "colab_type": "code",
    "id": "ye8YVTYG90_6"
   },
   "outputs": [],
   "source": [
    "answ_df['predict'] = logit.predict(test_df.loc[:,features])"
   ]
  },
  {
   "cell_type": "code",
   "execution_count": 251,
   "metadata": {
    "colab": {},
    "colab_type": "code",
    "id": "BAet0WO6-A_5"
   },
   "outputs": [],
   "source": [
    "answ_df.to_csv('submit.csv',index=False)"
   ]
  }
 ],
 "metadata": {
  "colab": {
   "collapsed_sections": [],
   "name": "PD_jun_ds",
   "provenance": [],
   "toc_visible": true
  },
  "kernelspec": {
   "display_name": "Python 3",
   "language": "python",
   "name": "python3"
  },
  "language_info": {
   "codemirror_mode": {
    "name": "ipython",
    "version": 3
   },
   "file_extension": ".py",
   "mimetype": "text/x-python",
   "name": "python",
   "nbconvert_exporter": "python",
   "pygments_lexer": "ipython3",
   "version": "3.9.11"
  }
 },
 "nbformat": 4,
 "nbformat_minor": 1
}
